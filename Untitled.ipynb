{
 "cells": [
  {
   "cell_type": "code",
   "execution_count": 1,
   "metadata": {
    "collapsed": false
   },
   "outputs": [
    {
     "name": "stdout",
     "output_type": "stream",
     "text": [
      "Using matplotlib backend: MacOSX\n"
     ]
    }
   ],
   "source": [
    "import numpy as np\n",
    "import matplotlib.pyplot as plt\n",
    "\n",
    "% matplotlib\n",
    "\n",
    "# USAGE:\n",
    "# plt.plot(np.array(<array to plot>), 'r.')\n",
    "\n",
    "rawNimbers = [ 0, 0, 1, 0, 0, 0, 1, 2, 3, 0, 0, 0, 0, 0, 9, 2, 8, 0, 0, 0, 0, 1,15, 1, 0, 0,\n",
    "               0, 1,11,10, 0, 0, 0, 0, 0,22, 1,20, 0, 0, 0, 0, 0, 0,29, 1, 8, 0, 0, 0, 5,\n",
    "               1,10, 0, 0, 0,21, 2, 9, 0, 0, 0, 0, 0, 0,39,10,11, 0, 0, 0, 0, 1,17,10, 0,\n",
    "               0, 0, 1,16, 9, 0, 0, 0, 0, 0,10, 1,40, 0, 0, 0, 0,22,18, 8, 0, 0, 0, 9,67]\n",
    "\n",
    "d1Nimbers = [ 0, 1, 2, 0, 1, 2, 3, 0, 4, 6, 0, 0, 1, 0, 0, 1,10, 0, 1,12,13,14,14,15,18,\n",
    "             14,18,20,17,11,20,22,19,20,25,21,20,25,25,27,28,25,27,28,25,30,30,29,31,30,\n",
    "             32,34,35,33,34,39,33,38,39,36,35,41,39,39,45,42,44,48,42,47,40,42,51,50,43,\n",
    "             54,49,51,54,53,51,54,57,53,55,57,52,57,60,55,62,62,57,62,62,59,62,64,59,68,67]\n",
    "\n",
    "d2Nimbers = [ 1, 2, 2, 1, 2, 2, 1, 0, 4, 7, 0, 2, 7, 0, 2,10, 9, 0,12, 7,13, 0, 9,12, 0,\n",
    "             14,16, 0,18,21,18,22,24,12,24,24,24,26,27,23,29,30,23,29,26,28,29,32,31,33,\n",
    "             34,31,36,38,31,36,38,30,36,38,38]\n",
    "\n",
    "plt.plot(np.array(rawNimbers), 'r.')\n",
    "plt.show()"
   ]
  },
  {
   "cell_type": "code",
   "execution_count": null,
   "metadata": {
    "collapsed": true
   },
   "outputs": [],
   "source": []
  }
 ],
 "metadata": {
  "kernelspec": {
   "display_name": "Python 3",
   "language": "python",
   "name": "python3"
  },
  "language_info": {
   "codemirror_mode": {
    "name": "ipython",
    "version": 3
   },
   "file_extension": ".py",
   "mimetype": "text/x-python",
   "name": "python",
   "nbconvert_exporter": "python",
   "pygments_lexer": "ipython3",
   "version": "3.6.0"
  }
 },
 "nbformat": 4,
 "nbformat_minor": 2
}
